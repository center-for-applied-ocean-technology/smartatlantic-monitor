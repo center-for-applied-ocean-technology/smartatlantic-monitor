{
 "cells": [
  {
   "cell_type": "code",
   "execution_count": null,
   "metadata": {},
   "outputs": [],
   "source": [
    "from erddapy import ERDDAP\n",
    "import json\n",
    "import yaml\n",
    "import copy\n",
    "\n",
    "base_erddap_url = \"https://www.smartatlantic.ca/erddap\"\n",
    "output_results = \"datasets.yml\"\n",
    "default_maxResponseTime = 5000\n",
    "default_assignees = [\"sjbruce\",\"RichardJKelly\"]\n",
    "\n",
    "source_file = \".upptimerc.yml\""
   ]
  },
  {
   "cell_type": "code",
   "execution_count": null,
   "metadata": {},
   "outputs": [],
   "source": [
    "e = ERDDAP(\n",
    "    server=base_erddap_url,\n",
    "    protocol=\"tabledap\",\n",
    "    response=\"json\"\n",
    ")\n",
    "\n",
    "e.dataset_id = \"allDatasets\"\n",
    "\n",
    "e.constraints = {\n",
    "    \"cdm_data_type=\": \"TimeSeries\",\n",
    "    \"testOutOfDate!=\": \"\",\n",
    "}\n",
    "\n",
    "e.variables = [\n",
    "    \"datasetID\",\n",
    "    \"testOutOfDate\",\n",
    "    \"cdm_data_type\",\n",
    "    \"minTime\",\n",
    "    \"maxTime\",\n",
    "    \"title\"\n",
    "]\n",
    "\n",
    "df = e.to_pandas()"
   ]
  },
  {
   "cell_type": "code",
   "execution_count": null,
   "metadata": {},
   "outputs": [],
   "source": [
    "json_output = json.loads(df.to_json())\n",
    "\n",
    "output = []\n",
    "\n",
    "for row in json_output[\"datasetID\"]:\n",
    "    print(json_output[\"datasetID\"][row])\n",
    "\n",
    "    dataset_url = f\"{base_erddap_url}/tabledap/{json_output['datasetID'][row]}.json?time&time>={json_output['testOutOfDate'][row]}&distinct()\"\n",
    "\n",
    "    dataset = {\n",
    "        \"name\":json_output['title'][row],\n",
    "        \"url\":dataset_url,\n",
    "        \"maxResponseTime\": copy.deepcopy(default_maxResponseTime),\n",
    "        \"assignees\": copy.deepcopy(default_assignees)\n",
    "    }\n",
    "    output.append(dataset)\n"
   ]
  },
  {
   "cell_type": "code",
   "execution_count": null,
   "metadata": {},
   "outputs": [],
   "source": [
    "with open(source_file, mode=\"r\") as yaml_file:\n",
    "    source_yaml = yaml.safe_load(yaml_file)\n",
    "\n",
    "source_yaml[\"sites\"] = source_yaml[\"sites\"] + output\n",
    "\n",
    "with open(output_results, mode=\"wt\", encoding=\"utf-8\") as yaml_file:\n",
    "    yaml.dump(source_yaml, yaml_file)"
   ]
  }
 ],
 "metadata": {
  "kernelspec": {
   "display_name": "Python 3",
   "language": "python",
   "name": "python3"
  },
  "language_info": {
   "codemirror_mode": {
    "name": "ipython",
    "version": 3
   },
   "file_extension": ".py",
   "mimetype": "text/x-python",
   "name": "python",
   "nbconvert_exporter": "python",
   "pygments_lexer": "ipython3",
   "version": "3.9.1"
  },
  "orig_nbformat": 4
 },
 "nbformat": 4,
 "nbformat_minor": 2
}
