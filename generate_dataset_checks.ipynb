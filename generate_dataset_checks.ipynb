{
 "cells": [
  {
   "cell_type": "code",
   "execution_count": 2,
   "metadata": {},
   "outputs": [
    {
     "ename": "ImportError",
     "evalue": "cannot import name 'parse_time_string' from 'pandas._libs.tslibs.parsing' (h:\\Temp\\MI\\smartatlantic-monitor\\.venv\\lib\\site-packages\\pandas\\_libs\\tslibs\\parsing.cp39-win_amd64.pyd)",
     "output_type": "error",
     "traceback": [
      "\u001b[1;31m---------------------------------------------------------------------------\u001b[0m",
      "\u001b[1;31mImportError\u001b[0m                               Traceback (most recent call last)",
      "File \u001b[1;32mh:\\Temp\\MI\\smartatlantic-monitor\\.venv\\lib\\site-packages\\erddapy\\erddapy.py:17\u001b[0m\n\u001b[0;32m     16\u001b[0m \u001b[39mtry\u001b[39;00m:\n\u001b[1;32m---> 17\u001b[0m     \u001b[39mfrom\u001b[39;00m \u001b[39mpandas\u001b[39;00m\u001b[39m.\u001b[39;00m\u001b[39mcore\u001b[39;00m\u001b[39m.\u001b[39;00m\u001b[39mindexes\u001b[39;00m\u001b[39m.\u001b[39;00m\u001b[39mperiod\u001b[39;00m \u001b[39mimport\u001b[39;00m parse_time_string\n\u001b[0;32m     18\u001b[0m \u001b[39mexcept\u001b[39;00m \u001b[39mImportError\u001b[39;00m:\n",
      "\u001b[1;31mImportError\u001b[0m: cannot import name 'parse_time_string' from 'pandas.core.indexes.period' (h:\\Temp\\MI\\smartatlantic-monitor\\.venv\\lib\\site-packages\\pandas\\core\\indexes\\period.py)",
      "\nDuring handling of the above exception, another exception occurred:\n",
      "\u001b[1;31mImportError\u001b[0m                               Traceback (most recent call last)",
      "Cell \u001b[1;32mIn[2], line 1\u001b[0m\n\u001b[1;32m----> 1\u001b[0m \u001b[39mfrom\u001b[39;00m \u001b[39merddapy\u001b[39;00m \u001b[39mimport\u001b[39;00m ERDDAP\n\u001b[0;32m      2\u001b[0m \u001b[39mimport\u001b[39;00m \u001b[39mjson\u001b[39;00m\n\u001b[0;32m      3\u001b[0m \u001b[39mimport\u001b[39;00m \u001b[39myaml\u001b[39;00m\n",
      "File \u001b[1;32mh:\\Temp\\MI\\smartatlantic-monitor\\.venv\\lib\\site-packages\\erddapy\\__init__.py:3\u001b[0m\n\u001b[0;32m      1\u001b[0m \u001b[39m\"\"\"Easier access to scientific data.\"\"\"\u001b[39;00m\n\u001b[1;32m----> 3\u001b[0m \u001b[39mfrom\u001b[39;00m \u001b[39merddapy\u001b[39;00m\u001b[39m.\u001b[39;00m\u001b[39merddapy\u001b[39;00m \u001b[39mimport\u001b[39;00m ERDDAP\n\u001b[0;32m      4\u001b[0m \u001b[39mfrom\u001b[39;00m \u001b[39merddapy\u001b[39;00m\u001b[39m.\u001b[39;00m\u001b[39mservers\u001b[39;00m \u001b[39mimport\u001b[39;00m servers\n\u001b[0;32m      6\u001b[0m __all__ \u001b[39m=\u001b[39m [\u001b[39m\"\u001b[39m\u001b[39mERDDAP\u001b[39m\u001b[39m\"\u001b[39m, \u001b[39m\"\u001b[39m\u001b[39mservers\u001b[39m\u001b[39m\"\u001b[39m]\n",
      "File \u001b[1;32mh:\\Temp\\MI\\smartatlantic-monitor\\.venv\\lib\\site-packages\\erddapy\\erddapy.py:19\u001b[0m\n\u001b[0;32m     17\u001b[0m     \u001b[39mfrom\u001b[39;00m \u001b[39mpandas\u001b[39;00m\u001b[39m.\u001b[39;00m\u001b[39mcore\u001b[39;00m\u001b[39m.\u001b[39;00m\u001b[39mindexes\u001b[39;00m\u001b[39m.\u001b[39;00m\u001b[39mperiod\u001b[39;00m \u001b[39mimport\u001b[39;00m parse_time_string\n\u001b[0;32m     18\u001b[0m \u001b[39mexcept\u001b[39;00m \u001b[39mImportError\u001b[39;00m:\n\u001b[1;32m---> 19\u001b[0m     \u001b[39mfrom\u001b[39;00m \u001b[39mpandas\u001b[39;00m\u001b[39m.\u001b[39;00m\u001b[39m_libs\u001b[39;00m\u001b[39m.\u001b[39;00m\u001b[39mtslibs\u001b[39;00m\u001b[39m.\u001b[39;00m\u001b[39mparsing\u001b[39;00m \u001b[39mimport\u001b[39;00m parse_time_string\n\u001b[0;32m     21\u001b[0m ListLike \u001b[39m=\u001b[39m Union[List[\u001b[39mstr\u001b[39m], Tuple[\u001b[39mstr\u001b[39m]]\n\u001b[0;32m     22\u001b[0m OptionalStr \u001b[39m=\u001b[39m Optional[\u001b[39mstr\u001b[39m]\n",
      "\u001b[1;31mImportError\u001b[0m: cannot import name 'parse_time_string' from 'pandas._libs.tslibs.parsing' (h:\\Temp\\MI\\smartatlantic-monitor\\.venv\\lib\\site-packages\\pandas\\_libs\\tslibs\\parsing.cp39-win_amd64.pyd)"
     ]
    }
   ],
   "source": [
    "from erddapy import ERDDAP\n",
    "import json\n",
    "import yaml\n",
    "import copy\n",
    "\n",
    "base_erddap_url = \"https://www.smartatlantic.ca/erddap\"\n",
    "output_results = \"datasets.yml\"\n",
    "default_maxResponseTime = 5000\n",
    "default_assignees = [\"sjbruce\",\"RichardJKelly\"]\n",
    "\n",
    "source_file = \".upptimerc.yml\""
   ]
  },
  {
   "cell_type": "code",
   "execution_count": null,
   "metadata": {},
   "outputs": [],
   "source": [
    "e = ERDDAP(\n",
    "    server=base_erddap_url,\n",
    "    protocol=\"tabledap\",\n",
    "    response=\"json\"\n",
    ")\n",
    "\n",
    "e.dataset_id = \"allDatasets\"\n",
    "\n",
    "e.constraints = {\n",
    "    \"cdm_data_type=\": \"TimeSeries\",\n",
    "    \"testOutOfDate!=\": \"\",\n",
    "}\n",
    "\n",
    "e.variables = [\n",
    "    \"datasetID\",\n",
    "    \"testOutOfDate\",\n",
    "    \"cdm_data_type\",\n",
    "    \"minTime\",\n",
    "    \"maxTime\",\n",
    "    \"title\"\n",
    "]\n",
    "\n",
    "df = e.to_pandas()"
   ]
  },
  {
   "cell_type": "code",
   "execution_count": null,
   "metadata": {},
   "outputs": [],
   "source": [
    "json_output = json.loads(df.to_json())\n",
    "\n",
    "output = []\n",
    "\n",
    "for row in json_output[\"datasetID\"]:\n",
    "    print(json_output[\"datasetID\"][row])\n",
    "\n",
    "    dataset_url = f\"{base_erddap_url}/tabledap/{json_output['datasetID'][row]}.json?time&time>={json_output['testOutOfDate'][row]}&distinct()\"\n",
    "\n",
    "    dataset = {\n",
    "        \"name\":json_output['title'][row],\n",
    "        \"url\":dataset_url,\n",
    "        \"maxResponseTime\": copy.deepcopy(default_maxResponseTime),\n",
    "        \"assignees\": copy.deepcopy(default_assignees)\n",
    "    }\n",
    "    output.append(dataset)\n"
   ]
  },
  {
   "cell_type": "code",
   "execution_count": null,
   "metadata": {},
   "outputs": [],
   "source": [
    "with open(source_file, mode=\"r\") as yaml_file:\n",
    "    source_yaml = yaml.safe_load(yaml_file)\n",
    "\n",
    "source_yaml[\"sites\"] = source_yaml[\"sites\"] + output\n",
    "\n",
    "with open(output_results, mode=\"wt\", encoding=\"utf-8\") as yaml_file:\n",
    "    yaml.dump(source_yaml, yaml_file)"
   ]
  }
 ],
 "metadata": {
  "kernelspec": {
   "display_name": "Python 3",
   "language": "python",
   "name": "python3"
  },
  "language_info": {
   "codemirror_mode": {
    "name": "ipython",
    "version": 3
   },
   "file_extension": ".py",
   "mimetype": "text/x-python",
   "name": "python",
   "nbconvert_exporter": "python",
   "pygments_lexer": "ipython3",
   "version": "3.9.1"
  },
  "orig_nbformat": 4
 },
 "nbformat": 4,
 "nbformat_minor": 2
}
